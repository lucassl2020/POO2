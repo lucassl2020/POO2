{
 "cells": [
  {
   "cell_type": "markdown",
   "metadata": {},
   "source": [
    "### Historico"
   ]
  },
  {
   "cell_type": "code",
   "execution_count": null,
   "metadata": {},
   "outputs": [],
   "source": [
    "class Historico():\n",
    "    \n",
    "    def __init__(self):\n",
    "        self._transacoes = {}\n",
    "        \n",
    "    def add_transacao(self, transacao, valor):\n",
    "        try:\n",
    "            self._transacoes[transacao] = valor\n",
    "            return True\n",
    "        except:\n",
    "            return False\n",
    "        \n",
    "    def imprimir(self):\n",
    "        print('Historico:')\n",
    "        for key in self._transacoes.keys():\n",
    "            print(f'- {key} - {self._transacoes[key]}')"
   ]
  },
  {
   "cell_type": "markdown",
   "metadata": {},
   "source": [
    "### Cliente"
   ]
  },
  {
   "cell_type": "code",
   "execution_count": null,
   "metadata": {},
   "outputs": [],
   "source": [
    "class Cliente():\n",
    "    \n",
    "    def __init__(self, nome, sobrenome, cpf):\n",
    "        self._nome = nome\n",
    "        self._sobrenome = sobrenome\n",
    "        self._cpf = cpf\n",
    "        \n",
    "    @property\n",
    "    def nome(self):\n",
    "        return self._nome"
   ]
  },
  {
   "cell_type": "markdown",
   "metadata": {},
   "source": [
    "### Conta"
   ]
  },
  {
   "cell_type": "code",
   "execution_count": null,
   "metadata": {},
   "outputs": [],
   "source": [
    "class Conta():\n",
    "    \n",
    "    _qtd_de_contas = 0\n",
    "    \n",
    "    __slots__ = ['_numero', '_titular', '_saldo', '_limite', '_historico']\n",
    "    \n",
    "    def __init__(self, numero, titular, saldo, limite=1000):\n",
    "        self._numero = numero\n",
    "        self._titular = titular\n",
    "        self._saldo = saldo\n",
    "        self._limite = limite\n",
    "        self._historico = Historico()\n",
    "        Conta._qtd_de_contas += 1\n",
    "        \n",
    "    @property\n",
    "    def numero(self):\n",
    "        return self._numero\n",
    "    \n",
    "    @numero.setter\n",
    "    def numero(self, novo_numero):\n",
    "        self._numero = novo_numero\n",
    "    \n",
    "    @property\n",
    "    def titular(self):\n",
    "        return self._titular\n",
    "    \n",
    "    @property\n",
    "    def saldo(self):\n",
    "        return self._saldo\n",
    "    \n",
    "    @property\n",
    "    def limite(self):\n",
    "        return self._limite\n",
    "    \n",
    "    @limite.setter\n",
    "    def limite(self, valor):\n",
    "        self._limite = valor\n",
    "        \n",
    "    def deposita(self, valor):\n",
    "        if valor > 0 and self.saldo + valor <= self.limite:\n",
    "            self._saldo += valor\n",
    "            self._historico.add_transacao('Deposito', valor)\n",
    "            return True\n",
    "        return False\n",
    "            \n",
    "    def saca(self, valor):\n",
    "        if valor > 0 and valor <= self.saldo:\n",
    "            self._saldo -= valor\n",
    "            self._historico.add_transacao('Saque', valor)\n",
    "            return True\n",
    "        return False\n",
    "    \n",
    "    def extrato(self):\n",
    "        print(f'Numero - {self.numero}')\n",
    "        print(f'Titular - {self.titular.nome}')\n",
    "        print(f'Saldo - {self.saldo}')\n",
    "        print(f'Limite - {self.limite}')\n",
    "        self._historico.imprimir()\n",
    "        print()\n",
    "        \n",
    "    def transfere(self, conta, valor):\n",
    "        try:\n",
    "            if self.saca(valor):\n",
    "                if conta.deposita(valor):\n",
    "                    self._historico.add_transacao(f'Transferencia para {conta.titular}', valor)\n",
    "                    return True\n",
    "                else:\n",
    "                    self.deposita(valor)\n",
    "            return False\n",
    "        except:\n",
    "            return False\n",
    "    \n",
    "    @staticmethod\n",
    "    def qtd_de_contas():\n",
    "        return Conta._qtd_de_contas"
   ]
  },
  {
   "cell_type": "markdown",
   "metadata": {},
   "source": [
    "### Testes"
   ]
  },
  {
   "cell_type": "code",
   "execution_count": null,
   "metadata": {},
   "outputs": [],
   "source": [
    "lucas = Cliente('Lucas', 'Silva', '12345678900')\n",
    "silva = Cliente('Silva', 'Lopes', '12345678901')"
   ]
  },
  {
   "cell_type": "code",
   "execution_count": null,
   "metadata": {},
   "outputs": [],
   "source": [
    "c1 = Conta('123-4', lucas, 500, 1000)\n",
    "c2 = Conta('123-5', silva, 500, 1000)"
   ]
  },
  {
   "cell_type": "code",
   "execution_count": null,
   "metadata": {},
   "outputs": [],
   "source": [
    "c1.transfere(c2, 600)\n",
    "\n",
    "c1.extrato()\n",
    "c2.extrato()"
   ]
  },
  {
   "cell_type": "code",
   "execution_count": null,
   "metadata": {},
   "outputs": [],
   "source": [
    "c1.transfere(c2, -400)\n",
    "\n",
    "c1.extrato()\n",
    "c2.extrato()"
   ]
  },
  {
   "cell_type": "code",
   "execution_count": null,
   "metadata": {},
   "outputs": [],
   "source": [
    "c1.transfere(c2, 500)\n",
    "\n",
    "c1.extrato()\n",
    "c2.extrato()"
   ]
  },
  {
   "cell_type": "code",
   "execution_count": null,
   "metadata": {},
   "outputs": [],
   "source": [
    "c1.qtd_de_contas()"
   ]
  },
  {
   "cell_type": "code",
   "execution_count": null,
   "metadata": {},
   "outputs": [],
   "source": [
    "c1.falha = False"
   ]
  },
  {
   "cell_type": "code",
   "execution_count": null,
   "metadata": {},
   "outputs": [],
   "source": [
    "c1.deposita(100)"
   ]
  },
  {
   "cell_type": "code",
   "execution_count": null,
   "metadata": {},
   "outputs": [],
   "source": [
    "c1.extrato()"
   ]
  },
  {
   "cell_type": "markdown",
   "metadata": {},
   "source": [
    "### Pessoa"
   ]
  },
  {
   "cell_type": "code",
   "execution_count": null,
   "metadata": {},
   "outputs": [],
   "source": [
    "class Pessoa():\n",
    "    \n",
    "    def __init__(self, nome, cpf, endereco, telefone):\n",
    "        self._nome = nome\n",
    "        self._cpf = cpf\n",
    "        self._endereco = endereco\n",
    "        self._telefone = telefone\n",
    "        \n",
    "    @property\n",
    "    def nome(self):\n",
    "        return self._nome\n",
    "    \n",
    "    @nome.setter\n",
    "    def nome(self, novo_nome):\n",
    "        self._nome = novo_nome\n",
    "    \n",
    "    @property\n",
    "    def cpf(self):\n",
    "        return self._cpf\n",
    "    \n",
    "    @property\n",
    "    def endereco(self):\n",
    "        return self._endereco\n",
    "    \n",
    "    @endereco.setter\n",
    "    def endereco(self, novo_endereco):\n",
    "        self._endereco = novo_endereco\n",
    "    \n",
    "    @property\n",
    "    def telefone(self):\n",
    "        return self._telefone\n",
    "    \n",
    "    @telefone.setter\n",
    "    def telefone(self, novo_telefone):\n",
    "        self._telefone = novo_telefone"
   ]
  },
  {
   "cell_type": "markdown",
   "metadata": {},
   "source": [
    "### Fotografia"
   ]
  },
  {
   "cell_type": "code",
   "execution_count": null,
   "metadata": {},
   "outputs": [],
   "source": [
    "from skimage.io import imread\n",
    "from matplotlib.pyplot import imshow"
   ]
  },
  {
   "cell_type": "code",
   "execution_count": null,
   "metadata": {},
   "outputs": [],
   "source": [
    "class Fotografia():\n",
    "    \n",
    "    _qtd_de_fotos = 0\n",
    "    \n",
    "    __slots__ = ['_foto', '_fotografo', '_data', '_proprietario']\n",
    "    \n",
    "    def __init__(self, foto, fotografo, data, proprietario):\n",
    "        self._foto = imread(foto)\n",
    "        self._fotografo = fotografo\n",
    "        self._data = data\n",
    "        self._proprietario = proprietario\n",
    "        Fotografia._qtd_de_fotos += 1\n",
    "        \n",
    "    @property\n",
    "    def foto(self):\n",
    "        return self._foto\n",
    "    \n",
    "    @foto.setter\n",
    "    def foto(self, nova_foto):\n",
    "        self._foto = nova_foto\n",
    "        \n",
    "    @property\n",
    "    def fotografo(self):\n",
    "        return self._fotografo\n",
    "    \n",
    "    @fotografo.setter\n",
    "    def fotografo(self, novo_fotografo):\n",
    "        self._fotografo = novo_fotografo\n",
    "        \n",
    "    @property\n",
    "    def data(self):\n",
    "        return self._data\n",
    "    \n",
    "    @data.setter\n",
    "    def data(self, nova_data):\n",
    "        self._data = nova_data\n",
    "        \n",
    "    @property\n",
    "    def proprietario(self):\n",
    "        return self._proprietario\n",
    "    \n",
    "    @proprietario.setter\n",
    "    def proprietario(self, novo_proprietario):\n",
    "        self._proprietario = novo_proprietario\n",
    "    \n",
    "    @staticmethod\n",
    "    def qtd_de_fotos():\n",
    "        return Fotografia._qtd_de_fotos\n",
    "    \n",
    "    def imshow(self):\n",
    "        imshow(self.foto)\n",
    "        \n",
    "    def shape(self):\n",
    "        return self.foto.shape"
   ]
  },
  {
   "cell_type": "markdown",
   "metadata": {},
   "source": [
    "### Criando fotografia"
   ]
  },
  {
   "cell_type": "code",
   "execution_count": null,
   "metadata": {},
   "outputs": [],
   "source": [
    "fotografo = Pessoa('Lucas', '12345678900', 'Av. Um', '8999912345678')\n",
    "proprietario = Pessoa('Silva', '12345678901', 'Av. Dois', '8999956781234')\n",
    "\n",
    "foto = Fotografia('Background.png', fotografo, '17/04/2021', proprietario)"
   ]
  },
  {
   "cell_type": "code",
   "execution_count": null,
   "metadata": {},
   "outputs": [],
   "source": [
    "foto.qtd_de_fotos()"
   ]
  },
  {
   "cell_type": "code",
   "execution_count": null,
   "metadata": {},
   "outputs": [],
   "source": [
    "foto.imshow()"
   ]
  },
  {
   "cell_type": "code",
   "execution_count": null,
   "metadata": {},
   "outputs": [],
   "source": [
    "foto.shape()"
   ]
  }
 ],
 "metadata": {
  "kernelspec": {
   "display_name": "Python 3",
   "language": "python",
   "name": "python3"
  },
  "language_info": {
   "codemirror_mode": {
    "name": "ipython",
    "version": 3
   },
   "file_extension": ".py",
   "mimetype": "text/x-python",
   "name": "python",
   "nbconvert_exporter": "python",
   "pygments_lexer": "ipython3",
   "version": "3.7.6"
  }
 },
 "nbformat": 4,
 "nbformat_minor": 4
}
